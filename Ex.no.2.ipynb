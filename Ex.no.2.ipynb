{
 "cells": [
  {
   "cell_type": "code",
   "execution_count": 1,
   "metadata": {
    "colab": {
     "base_uri": "https://localhost:8080/",
     "height": 415
    },
    "id": "0HO-9t60ilyS",
    "outputId": "c4a83f3f-736a-4a47-9748-c518351d3bfd"
   },
   "outputs": [
    {
     "name": "stdout",
     "output_type": "stream",
     "text": [
      "Downloading data from https://archive.ics.uci.edu/ml/machine-learning-databases/housing/housing.data\n",
      "49152/49082 [==============================] - 0s 0us/step\n",
      "57344/49082 [===================================] - 0s 0us/step\n"
     ]
    },
    {
     "data": {
      "text/html": [
       "\n",
       "  <div id=\"df-0ae8429b-73a9-49ed-a07c-410e4b229a56\">\n",
       "    <div class=\"colab-df-container\">\n",
       "      <div>\n",
       "<style scoped>\n",
       "    .dataframe tbody tr th:only-of-type {\n",
       "        vertical-align: middle;\n",
       "    }\n",
       "\n",
       "    .dataframe tbody tr th {\n",
       "        vertical-align: top;\n",
       "    }\n",
       "\n",
       "    .dataframe thead th {\n",
       "        text-align: right;\n",
       "    }\n",
       "</style>\n",
       "<table border=\"1\" class=\"dataframe\">\n",
       "  <thead>\n",
       "    <tr style=\"text-align: right;\">\n",
       "      <th></th>\n",
       "      <th>CRIM</th>\n",
       "      <th>ZN</th>\n",
       "      <th>INDUS</th>\n",
       "      <th>CHAS</th>\n",
       "      <th>NOX</th>\n",
       "      <th>RM</th>\n",
       "      <th>AGE</th>\n",
       "      <th>DIS</th>\n",
       "      <th>RAD</th>\n",
       "      <th>TAX</th>\n",
       "      <th>PTRATION</th>\n",
       "      <th>B</th>\n",
       "      <th>LSTAT</th>\n",
       "      <th>MEDV</th>\n",
       "    </tr>\n",
       "  </thead>\n",
       "  <tbody>\n",
       "    <tr>\n",
       "      <th>496</th>\n",
       "      <td>0.28960</td>\n",
       "      <td>0.0</td>\n",
       "      <td>9.69</td>\n",
       "      <td>0</td>\n",
       "      <td>0.585</td>\n",
       "      <td>5.390</td>\n",
       "      <td>72.9</td>\n",
       "      <td>2.7986</td>\n",
       "      <td>6</td>\n",
       "      <td>391.0</td>\n",
       "      <td>19.2</td>\n",
       "      <td>396.90</td>\n",
       "      <td>21.14</td>\n",
       "      <td>19.7</td>\n",
       "    </tr>\n",
       "    <tr>\n",
       "      <th>497</th>\n",
       "      <td>0.26838</td>\n",
       "      <td>0.0</td>\n",
       "      <td>9.69</td>\n",
       "      <td>0</td>\n",
       "      <td>0.585</td>\n",
       "      <td>5.794</td>\n",
       "      <td>70.6</td>\n",
       "      <td>2.8927</td>\n",
       "      <td>6</td>\n",
       "      <td>391.0</td>\n",
       "      <td>19.2</td>\n",
       "      <td>396.90</td>\n",
       "      <td>14.10</td>\n",
       "      <td>18.3</td>\n",
       "    </tr>\n",
       "    <tr>\n",
       "      <th>498</th>\n",
       "      <td>0.23912</td>\n",
       "      <td>0.0</td>\n",
       "      <td>9.69</td>\n",
       "      <td>0</td>\n",
       "      <td>0.585</td>\n",
       "      <td>6.019</td>\n",
       "      <td>65.3</td>\n",
       "      <td>2.4091</td>\n",
       "      <td>6</td>\n",
       "      <td>391.0</td>\n",
       "      <td>19.2</td>\n",
       "      <td>396.90</td>\n",
       "      <td>12.92</td>\n",
       "      <td>21.2</td>\n",
       "    </tr>\n",
       "    <tr>\n",
       "      <th>499</th>\n",
       "      <td>0.17783</td>\n",
       "      <td>0.0</td>\n",
       "      <td>9.69</td>\n",
       "      <td>0</td>\n",
       "      <td>0.585</td>\n",
       "      <td>5.569</td>\n",
       "      <td>73.5</td>\n",
       "      <td>2.3999</td>\n",
       "      <td>6</td>\n",
       "      <td>391.0</td>\n",
       "      <td>19.2</td>\n",
       "      <td>395.77</td>\n",
       "      <td>15.10</td>\n",
       "      <td>17.5</td>\n",
       "    </tr>\n",
       "    <tr>\n",
       "      <th>500</th>\n",
       "      <td>0.22438</td>\n",
       "      <td>0.0</td>\n",
       "      <td>9.69</td>\n",
       "      <td>0</td>\n",
       "      <td>0.585</td>\n",
       "      <td>6.027</td>\n",
       "      <td>79.7</td>\n",
       "      <td>2.4982</td>\n",
       "      <td>6</td>\n",
       "      <td>391.0</td>\n",
       "      <td>19.2</td>\n",
       "      <td>396.90</td>\n",
       "      <td>14.33</td>\n",
       "      <td>16.8</td>\n",
       "    </tr>\n",
       "    <tr>\n",
       "      <th>501</th>\n",
       "      <td>0.06263</td>\n",
       "      <td>0.0</td>\n",
       "      <td>11.93</td>\n",
       "      <td>0</td>\n",
       "      <td>0.573</td>\n",
       "      <td>6.593</td>\n",
       "      <td>69.1</td>\n",
       "      <td>2.4786</td>\n",
       "      <td>1</td>\n",
       "      <td>273.0</td>\n",
       "      <td>21.0</td>\n",
       "      <td>391.99</td>\n",
       "      <td>9.67</td>\n",
       "      <td>22.4</td>\n",
       "    </tr>\n",
       "    <tr>\n",
       "      <th>502</th>\n",
       "      <td>0.04527</td>\n",
       "      <td>0.0</td>\n",
       "      <td>11.93</td>\n",
       "      <td>0</td>\n",
       "      <td>0.573</td>\n",
       "      <td>6.120</td>\n",
       "      <td>76.7</td>\n",
       "      <td>2.2875</td>\n",
       "      <td>1</td>\n",
       "      <td>273.0</td>\n",
       "      <td>21.0</td>\n",
       "      <td>396.90</td>\n",
       "      <td>9.08</td>\n",
       "      <td>20.6</td>\n",
       "    </tr>\n",
       "    <tr>\n",
       "      <th>503</th>\n",
       "      <td>0.06076</td>\n",
       "      <td>0.0</td>\n",
       "      <td>11.93</td>\n",
       "      <td>0</td>\n",
       "      <td>0.573</td>\n",
       "      <td>6.976</td>\n",
       "      <td>91.0</td>\n",
       "      <td>2.1675</td>\n",
       "      <td>1</td>\n",
       "      <td>273.0</td>\n",
       "      <td>21.0</td>\n",
       "      <td>396.90</td>\n",
       "      <td>5.64</td>\n",
       "      <td>23.9</td>\n",
       "    </tr>\n",
       "    <tr>\n",
       "      <th>504</th>\n",
       "      <td>0.10959</td>\n",
       "      <td>0.0</td>\n",
       "      <td>11.93</td>\n",
       "      <td>0</td>\n",
       "      <td>0.573</td>\n",
       "      <td>6.794</td>\n",
       "      <td>89.3</td>\n",
       "      <td>2.3889</td>\n",
       "      <td>1</td>\n",
       "      <td>273.0</td>\n",
       "      <td>21.0</td>\n",
       "      <td>393.45</td>\n",
       "      <td>6.48</td>\n",
       "      <td>22.0</td>\n",
       "    </tr>\n",
       "    <tr>\n",
       "      <th>505</th>\n",
       "      <td>0.04741</td>\n",
       "      <td>0.0</td>\n",
       "      <td>11.93</td>\n",
       "      <td>0</td>\n",
       "      <td>0.573</td>\n",
       "      <td>6.030</td>\n",
       "      <td>80.8</td>\n",
       "      <td>2.5050</td>\n",
       "      <td>1</td>\n",
       "      <td>273.0</td>\n",
       "      <td>21.0</td>\n",
       "      <td>396.90</td>\n",
       "      <td>7.88</td>\n",
       "      <td>11.9</td>\n",
       "    </tr>\n",
       "  </tbody>\n",
       "</table>\n",
       "</div>\n",
       "      <button class=\"colab-df-convert\" onclick=\"convertToInteractive('df-0ae8429b-73a9-49ed-a07c-410e4b229a56')\"\n",
       "              title=\"Convert this dataframe to an interactive table.\"\n",
       "              style=\"display:none;\">\n",
       "        \n",
       "  <svg xmlns=\"http://www.w3.org/2000/svg\" height=\"24px\"viewBox=\"0 0 24 24\"\n",
       "       width=\"24px\">\n",
       "    <path d=\"M0 0h24v24H0V0z\" fill=\"none\"/>\n",
       "    <path d=\"M18.56 5.44l.94 2.06.94-2.06 2.06-.94-2.06-.94-.94-2.06-.94 2.06-2.06.94zm-11 1L8.5 8.5l.94-2.06 2.06-.94-2.06-.94L8.5 2.5l-.94 2.06-2.06.94zm10 10l.94 2.06.94-2.06 2.06-.94-2.06-.94-.94-2.06-.94 2.06-2.06.94z\"/><path d=\"M17.41 7.96l-1.37-1.37c-.4-.4-.92-.59-1.43-.59-.52 0-1.04.2-1.43.59L10.3 9.45l-7.72 7.72c-.78.78-.78 2.05 0 2.83L4 21.41c.39.39.9.59 1.41.59.51 0 1.02-.2 1.41-.59l7.78-7.78 2.81-2.81c.8-.78.8-2.07 0-2.86zM5.41 20L4 18.59l7.72-7.72 1.47 1.35L5.41 20z\"/>\n",
       "  </svg>\n",
       "      </button>\n",
       "      \n",
       "  <style>\n",
       "    .colab-df-container {\n",
       "      display:flex;\n",
       "      flex-wrap:wrap;\n",
       "      gap: 12px;\n",
       "    }\n",
       "\n",
       "    .colab-df-convert {\n",
       "      background-color: #E8F0FE;\n",
       "      border: none;\n",
       "      border-radius: 50%;\n",
       "      cursor: pointer;\n",
       "      display: none;\n",
       "      fill: #1967D2;\n",
       "      height: 32px;\n",
       "      padding: 0 0 0 0;\n",
       "      width: 32px;\n",
       "    }\n",
       "\n",
       "    .colab-df-convert:hover {\n",
       "      background-color: #E2EBFA;\n",
       "      box-shadow: 0px 1px 2px rgba(60, 64, 67, 0.3), 0px 1px 3px 1px rgba(60, 64, 67, 0.15);\n",
       "      fill: #174EA6;\n",
       "    }\n",
       "\n",
       "    [theme=dark] .colab-df-convert {\n",
       "      background-color: #3B4455;\n",
       "      fill: #D2E3FC;\n",
       "    }\n",
       "\n",
       "    [theme=dark] .colab-df-convert:hover {\n",
       "      background-color: #434B5C;\n",
       "      box-shadow: 0px 1px 3px 1px rgba(0, 0, 0, 0.15);\n",
       "      filter: drop-shadow(0px 1px 2px rgba(0, 0, 0, 0.3));\n",
       "      fill: #FFFFFF;\n",
       "    }\n",
       "  </style>\n",
       "\n",
       "      <script>\n",
       "        const buttonEl =\n",
       "          document.querySelector('#df-0ae8429b-73a9-49ed-a07c-410e4b229a56 button.colab-df-convert');\n",
       "        buttonEl.style.display =\n",
       "          google.colab.kernel.accessAllowed ? 'block' : 'none';\n",
       "\n",
       "        async function convertToInteractive(key) {\n",
       "          const element = document.querySelector('#df-0ae8429b-73a9-49ed-a07c-410e4b229a56');\n",
       "          const dataTable =\n",
       "            await google.colab.kernel.invokeFunction('convertToInteractive',\n",
       "                                                     [key], {});\n",
       "          if (!dataTable) return;\n",
       "\n",
       "          const docLinkHtml = 'Like what you see? Visit the ' +\n",
       "            '<a target=\"_blank\" href=https://colab.research.google.com/notebooks/data_table.ipynb>data table notebook</a>'\n",
       "            + ' to learn more about interactive tables.';\n",
       "          element.innerHTML = '';\n",
       "          dataTable['output_type'] = 'display_data';\n",
       "          await google.colab.output.renderOutput(dataTable, element);\n",
       "          const docLink = document.createElement('div');\n",
       "          docLink.innerHTML = docLinkHtml;\n",
       "          element.appendChild(docLink);\n",
       "        }\n",
       "      </script>\n",
       "    </div>\n",
       "  </div>\n",
       "  "
      ],
      "text/plain": [
       "        CRIM   ZN  INDUS  CHAS    NOX     RM   AGE     DIS  RAD    TAX  \\\n",
       "496  0.28960  0.0   9.69     0  0.585  5.390  72.9  2.7986    6  391.0   \n",
       "497  0.26838  0.0   9.69     0  0.585  5.794  70.6  2.8927    6  391.0   \n",
       "498  0.23912  0.0   9.69     0  0.585  6.019  65.3  2.4091    6  391.0   \n",
       "499  0.17783  0.0   9.69     0  0.585  5.569  73.5  2.3999    6  391.0   \n",
       "500  0.22438  0.0   9.69     0  0.585  6.027  79.7  2.4982    6  391.0   \n",
       "501  0.06263  0.0  11.93     0  0.573  6.593  69.1  2.4786    1  273.0   \n",
       "502  0.04527  0.0  11.93     0  0.573  6.120  76.7  2.2875    1  273.0   \n",
       "503  0.06076  0.0  11.93     0  0.573  6.976  91.0  2.1675    1  273.0   \n",
       "504  0.10959  0.0  11.93     0  0.573  6.794  89.3  2.3889    1  273.0   \n",
       "505  0.04741  0.0  11.93     0  0.573  6.030  80.8  2.5050    1  273.0   \n",
       "\n",
       "     PTRATION       B  LSTAT  MEDV  \n",
       "496      19.2  396.90  21.14  19.7  \n",
       "497      19.2  396.90  14.10  18.3  \n",
       "498      19.2  396.90  12.92  21.2  \n",
       "499      19.2  395.77  15.10  17.5  \n",
       "500      19.2  396.90  14.33  16.8  \n",
       "501      21.0  391.99   9.67  22.4  \n",
       "502      21.0  396.90   9.08  20.6  \n",
       "503      21.0  396.90   5.64  23.9  \n",
       "504      21.0  393.45   6.48  22.0  \n",
       "505      21.0  396.90   7.88  11.9  "
      ]
     },
     "execution_count": 1,
     "metadata": {},
     "output_type": "execute_result"
    }
   ],
   "source": [
    "import tensorflow as tf\n",
    "import keras\n",
    "import pandas as pd \n",
    "\n",
    "# Download the daset with keras.utils.get_file\n",
    "dataset_path = tf.keras.utils.get_file(\"housing.data\", \"https://archive.ics.uci.edu/ml/machine-learning-databases/housing/housing.data\")\n",
    "column_names = ['CRIM','ZN','INDUS','CHAS','NOX',\n",
    "                'RM', 'AGE', 'DIS','RAD','TAX','PTRATION', 'B', 'LSTAT', 'MEDV']\n",
    "raw_dataset = pd.read_csv(dataset_path, names=column_names,\n",
    "                      na_values = \"?\", comment='\\t',\n",
    "                      sep=\" \", skipinitialspace=True)\n",
    "# Create a dataset instant\n",
    "dataset = raw_dataset.copy()\n",
    "# This function returns last n rows from the object \n",
    "# based on position.\n",
    "dataset.tail(n=10)"
   ]
  },
  {
   "cell_type": "code",
   "execution_count": 3,
   "metadata": {
    "id": "FkYtelxdi3wn"
   },
   "outputs": [],
   "source": [
    "# Split data into train/test\n",
    "# p = training data portion\n",
    "p=0.8\n",
    "trainDataset = dataset.sample(frac=p,random_state=0)\n",
    "testDataset = dataset.drop(trainDataset.index)"
   ]
  },
  {
   "cell_type": "code",
   "execution_count": 4,
   "metadata": {
    "colab": {
     "base_uri": "https://localhost:8080/",
     "height": 279
    },
    "id": "nf7eHelhjTOe",
    "outputId": "aba55ac1-9d7b-434d-ab03-e90de3930df2"
   },
   "outputs": [
    {
     "data": {
      "image/png": "[encoded data removed]",
      "text/plain": [
       "<Figure size 432x288 with 1 Axes>"
      ]
     },
     "metadata": {
      "needs_background": "light"
     },
     "output_type": "display_data"
    }
   ],
   "source": [
    "# Visual representation of training data\n",
    "import matplotlib.pyplot as plt\n",
    "fig, ax = plt.subplots()\n",
    "# With .pop() command, the associated columns are extracted.\n",
    "x = trainDataset['RM']\n",
    "y = trainDataset['MEDV']\n",
    "ax.scatter(x, y, edgecolors=(0, 0, 0))\n",
    "ax.set_xlabel('RM')\n",
    "ax.set_ylabel('MEDV')\n",
    "plt.show()"
   ]
  },
  {
   "cell_type": "code",
   "execution_count": 5,
   "metadata": {
    "id": "wpe0gEVSjZq1"
   },
   "outputs": [],
   "source": [
    "# Pop command return item and drop it from frame.\n",
    "# After using trainDataset.pop('RM'), the 'RM' column \n",
    "# does not exist in the trainDataset frame anymore!\n",
    "trainInput = trainDataset['RM']\n",
    "trainTarget = trainDataset['MEDV']\n",
    "testInput = testDataset['RM']\n",
    "testTarget = testDataset['MEDV']"
   ]
  },
  {
   "cell_type": "code",
   "execution_count": 6,
   "metadata": {
    "id": "-rBbOWRojej1"
   },
   "outputs": [],
   "source": [
    "model = keras.Sequential([\n",
    "      keras.layers.Dense(1, use_bias=True, input_shape=(1,))\n",
    "    ])"
   ]
  },
  {
   "cell_type": "code",
   "execution_count": 7,
   "metadata": {
    "id": "NnrT3eoPjmaU"
   },
   "outputs": [],
   "source": [
    "# Adam optimizer\n",
    "optimizer = tf.keras.optimizers.Adam(\n",
    "    learning_rate=0.01, beta_1=0.9, beta_2=0.99, epsilon=1e-05, amsgrad=False,\n",
    "    name='Adam')\n",
    "  \n",
    "# Model compiling settings\n",
    "model.compile(loss='mse', optimizer=optimizer, metrics=['mae','mse'])"
   ]
  },
  {
   "cell_type": "code",
   "execution_count": 8,
   "metadata": {
    "colab": {
     "base_uri": "https://localhost:8080/"
    },
    "id": "67I-m2VWjrxV",
    "outputId": "0f25e6d1-f9a2-43e1-db56-86d22638c5d3"
   },
   "outputs": [
    {
     "name": "stdout",
     "output_type": "stream",
     "text": [
      "Epoch 0, loss 252.28, val_loss 320.34, mae 13.72, val_mae 14.96, mse 252.28, val_mse 320.34\n",
      "Epoch 100, loss 62.52, val_loss 105.84, mae 5.61, val_mae 7.21, mse 62.52, val_mse 105.84\n",
      "Epoch 200, loss 54.28, val_loss 91.14, mae 5.27, val_mae 6.75, mse 54.28, val_mse 91.14\n",
      "Epoch 300, loss 53.89, val_loss 90.97, mae 5.24, val_mae 6.72, mse 53.89, val_mse 90.97\n",
      "Epoch 400, loss 53.19, val_loss 90.49, mae 5.20, val_mae 6.68, mse 53.19, val_mse 90.49\n",
      "Epoch 500, loss 52.30, val_loss 89.98, mae 5.14, val_mae 6.63, mse 52.30, val_mse 89.98\n",
      "Epoch 600, loss 51.41, val_loss 89.44, mae 5.08, val_mae 6.57, mse 51.41, val_mse 89.44\n",
      "Epoch 700, loss 50.59, val_loss 88.49, mae 5.05, val_mae 6.52, mse 50.59, val_mse 88.49\n",
      "Epoch 800, loss 49.86, val_loss 88.05, mae 5.01, val_mae 6.47, mse 49.86, val_mse 88.05\n",
      "Epoch 900, loss 49.19, val_loss 87.55, mae 4.97, val_mae 6.42, mse 49.19, val_mse 87.55\n",
      "Epoch 1000, loss 48.51, val_loss 87.49, mae 4.90, val_mae 6.39, mse 48.51, val_mse 87.49\n",
      "Epoch 1100, loss 47.90, val_loss 86.79, mae 4.87, val_mae 6.35, mse 47.90, val_mse 86.79\n",
      "Epoch 1200, loss 47.31, val_loss 86.55, mae 4.83, val_mae 6.32, mse 47.31, val_mse 86.55\n",
      "Epoch 1300, loss 46.83, val_loss 86.51, mae 4.78, val_mae 6.30, mse 46.83, val_mse 86.51\n",
      "Epoch 1400, loss 46.35, val_loss 85.82, mae 4.77, val_mae 6.26, mse 46.35, val_mse 85.82\n",
      "Epoch 1500, loss 45.88, val_loss 85.77, mae 4.73, val_mae 6.23, mse 45.88, val_mse 85.77\n",
      "Epoch 1600, loss 45.46, val_loss 85.59, mae 4.70, val_mae 6.21, mse 45.46, val_mse 85.59\n",
      "Epoch 1700, loss 45.08, val_loss 85.21, mae 4.68, val_mae 6.18, mse 45.08, val_mse 85.21\n",
      "Epoch 1800, loss 44.73, val_loss 85.02, mae 4.65, val_mae 6.15, mse 44.73, val_mse 85.02\n",
      "Epoch 1900, loss 44.37, val_loss 84.97, mae 4.63, val_mae 6.13, mse 44.37, val_mse 84.97\n"
     ]
    }
   ],
   "source": [
    "# A mechanism that stops training if the validation loss is not improving for more than n_idle_epochs.\n",
    "n_idle_epochs = 100\n",
    "earlyStopping = tf.keras.callbacks.EarlyStopping(monitor='val_loss', patience=n_idle_epochs, min_delta=0.01)\n",
    "# Creating a custom callback to print the log after a certain number of epochs\n",
    "class NEPOCHLogger(tf.keras.callbacks.Callback):\n",
    "    def __init__(self,per_epoch=100):\n",
    "        '''\n",
    "        display: Number of batches to wait before outputting loss\n",
    "        '''\n",
    "        self.seen = 0\n",
    "        self.per_epoch = per_epoch\n",
    "    \n",
    "    def on_epoch_end(self, epoch, logs=None):\n",
    "      if epoch % self.per_epoch == 0:\n",
    "        print('Epoch {}, loss {:.2f}, val_loss {:.2f}, mae {:.2f}, val_mae {:.2f}, mse {:.2f}, val_mse {:.2f}'\\\n",
    "              .format(epoch, logs['loss'], logs['val_loss'],logs['mae'], logs['val_mae'],logs['mse'], logs['val_mse']))\n",
    "        \n",
    "# Call the object\n",
    "log_display = NEPOCHLogger(per_epoch=100)\n",
    "# Training loop\n",
    "n_epochs = 2000\n",
    "history = model.fit(\n",
    "  trainInput, trainTarget, batch_size=256,\n",
    "  epochs=n_epochs, validation_split = 0.1, verbose=0, callbacks=[earlyStopping,log_display])"
   ]
  },
  {
   "cell_type": "code",
   "execution_count": 9,
   "metadata": {
    "colab": {
     "base_uri": "https://localhost:8080/"
    },
    "id": "oC57uqgZj8xE",
    "outputId": "9f44fc08-e683-4ca6-ddb9-54401d550a28"
   },
   "outputs": [
    {
     "name": "stdout",
     "output_type": "stream",
     "text": [
      "keys: dict_keys(['loss', 'mae', 'mse', 'val_loss', 'val_mae', 'val_mse'])\n"
     ]
    }
   ],
   "source": [
    "print('keys:', history.history.keys())"
   ]
  },
  {
   "cell_type": "code",
   "execution_count": 10,
   "metadata": {
    "colab": {
     "base_uri": "https://localhost:8080/",
     "height": 285
    },
    "id": "EEP37h1-kBS1",
    "outputId": "7a8aba86-e141-4c97-a05e-3fd2fbf9f931"
   },
   "outputs": [
    {
     "data": {
      "text/plain": [
       "<matplotlib.axes._subplots.AxesSubplot at 0x7f37376d0410>"
      ]
     },
     "execution_count": 10,
     "metadata": {},
     "output_type": "execute_result"
    },
    {
     "data": {
      "image/png": "[encoded data removed]",
      "text/plain": [
       "<Figure size 432x288 with 1 Axes>"
      ]
     },
     "metadata": {},
     "output_type": "display_data"
    }
   ],
   "source": [
    "import numpy as np\n",
    "import pandas as pd\n",
    "import seaborn as sns\n",
    "# Returning the desired values for plotting and turn to numpy array\n",
    "mae = np.asarray(history.history['mae'])\n",
    "val_mae = np.asarray(history.history['val_mae'])\n",
    "# Creating the data frame\n",
    "num_values = (len(mae))\n",
    "values = np.zeros((num_values,2), dtype=float)\n",
    "values[:,0] = mae\n",
    "values[:,1] = val_mae\n",
    "# Using pandas to frame the data\n",
    "steps = pd.RangeIndex(start=0,stop=num_values)\n",
    "data = pd.DataFrame(values, steps, columns=[\"mae\", \"va-mae\"])\n",
    "# Plotting\n",
    "sns.set(style=\"whitegrid\")\n",
    "sns.lineplot(data=data, palette=\"tab10\", linewidth=2.5)"
   ]
  },
  {
   "cell_type": "code",
   "execution_count": null,
   "metadata": {},
   "outputs": [],
   "source": []
  }
 ],
 "metadata": {
  "colab": {
   "collapsed_sections": [],
   "name": "Exno 2.ipynb",
   "provenance": []
  },
  "kernelspec": {
   "display_name": "Python 3 (ipykernel)",
   "language": "python",
   "name": "python3"
  },
  "language_info": {
   "codemirror_mode": {
    "name": "ipython",
    "version": 3
   },
   "file_extension": ".py",
   "mimetype": "text/x-python",
   "name": "python",
   "nbconvert_exporter": "python",
   "pygments_lexer": "ipython3",
   "version": "3.9.12"
  }
 },
 "nbformat": 4,
 "nbformat_minor": 1
}
