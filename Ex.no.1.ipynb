{
 "cells": [
  {
   "cell_type": "code",
   "execution_count": 1,
   "id": "bf79d9cd",
   "metadata": {},
   "outputs": [],
   "source": [
    "import tensorflow as tf"
   ]
  },
  {
   "cell_type": "code",
   "execution_count": 3,
   "id": "d2f4bc39",
   "metadata": {},
   "outputs": [
    {
     "name": "stdout",
     "output_type": "stream",
     "text": [
      "tf.Tensor(\n",
      "[[ 1  2  3  4]\n",
      " [ 2  8  1  5]\n",
      " [45 78  2  7]\n",
      " [23 67  2  4]], shape=(4, 4), dtype=int32)\n"
     ]
    }
   ],
   "source": [
    "m=tf.constant([[1,2,3,4],[2,8,1,5],[45,78,2,7],[23,67,2,4]])\n",
    "print(m)"
   ]
  },
  {
   "cell_type": "code",
   "execution_count": 4,
   "id": "30e59335",
   "metadata": {},
   "outputs": [
    {
     "name": "stdout",
     "output_type": "stream",
     "text": [
      "tf.Tensor([ 4  8 78 67], shape=(4,), dtype=int32)\n"
     ]
    }
   ],
   "source": [
    "mmax=tf.reduce_max(m,axis=1)\n",
    "print (mmax)"
   ]
  },
  {
   "cell_type": "code",
   "execution_count": 5,
   "id": "4c6808c3",
   "metadata": {},
   "outputs": [
    {
     "name": "stdout",
     "output_type": "stream",
     "text": [
      "tf.Tensor(\n",
      "[[ 4 10  2]\n",
      " [14 16  6]\n",
      " [ 3  7  8]], shape=(3, 3), dtype=int32)\n"
     ]
    }
   ],
   "source": [
    "v1=tf.constant([[2,5,1],[7,12,4],[2,5,6]])\n",
    "v2=tf.constant([[2,5,1],[7,4,2],[1,2,2]])\n",
    "v3=v1+v2\n",
    "print(v3)"
   ]
  },
  {
   "cell_type": "code",
   "execution_count": 11,
   "id": "e78125fe",
   "metadata": {},
   "outputs": [
    {
     "name": "stdout",
     "output_type": "stream",
     "text": [
      "tf.Tensor(\n",
      "[[ 5 12  3]\n",
      " [16 18  7]\n",
      " [ 8 13  9]], shape=(3, 3), dtype=int32)\n"
     ]
    }
   ],
   "source": [
    "list=[[1,2,1],[2,2,1],[5,6,1]]\n",
    "v5=v3+list\n",
    "print(v5)"
   ]
  },
  {
   "cell_type": "code",
   "execution_count": null,
   "id": "344774d2",
   "metadata": {},
   "outputs": [],
   "source": []
  }
 ],
 "metadata": {
  "kernelspec": {
   "display_name": "Python 3 (ipykernel)",
   "language": "python",
   "name": "python3"
  },
  "language_info": {
   "codemirror_mode": {
    "name": "ipython",
    "version": 3
   },
   "file_extension": ".py",
   "mimetype": "text/x-python",
   "name": "python",
   "nbconvert_exporter": "python",
   "pygments_lexer": "ipython3",
   "version": "3.9.12"
  }
 },
 "nbformat": 4,
 "nbformat_minor": 5
}
