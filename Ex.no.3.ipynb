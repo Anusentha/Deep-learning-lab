{
 "cells": [
  {
   "cell_type": "code",
   "execution_count": 1,
   "id": "4703d907",
   "metadata": {},
   "outputs": [],
   "source": [
    "import numpy as np\n",
    "import pandas as pd\n",
    "import matplotlib.pyplot as plt\n",
    "import argparse\n",
    "\n",
    "from sklearn import datasets\n",
    "from sklearn.model_selection import train_test_split\n",
    "from sklearn import metrics\n",
    "\n",
    "#\n",
    "# Import Keras modules\n",
    "from keras import models\n",
    "from tensorflow.keras.models import Sequential\n",
    "from keras import layers\n",
    "from tensorflow.keras.utils import to_categorical\n",
    "from tensorflow.keras.optimizers import SGD\n",
    "from sklearn.neural_network import MLPClassifier # neural network"
   ]
  },
  {
   "cell_type": "code",
   "execution_count": 2,
   "id": "64cf7958",
   "metadata": {},
   "outputs": [
    {
     "data": {
      "text/html": [
       "<div>\n",
       "<style scoped>\n",
       "    .dataframe tbody tr th:only-of-type {\n",
       "        vertical-align: middle;\n",
       "    }\n",
       "\n",
       "    .dataframe tbody tr th {\n",
       "        vertical-align: top;\n",
       "    }\n",
       "\n",
       "    .dataframe thead th {\n",
       "        text-align: right;\n",
       "    }\n",
       "</style>\n",
       "<table border=\"1\" class=\"dataframe\">\n",
       "  <thead>\n",
       "    <tr style=\"text-align: right;\">\n",
       "      <th></th>\n",
       "      <th>sepal.length</th>\n",
       "      <th>sepal.width</th>\n",
       "      <th>petal.length</th>\n",
       "      <th>petal.width</th>\n",
       "      <th>variety</th>\n",
       "    </tr>\n",
       "  </thead>\n",
       "  <tbody>\n",
       "    <tr>\n",
       "      <th>0</th>\n",
       "      <td>5.1</td>\n",
       "      <td>3.5</td>\n",
       "      <td>1.4</td>\n",
       "      <td>0.2</td>\n",
       "      <td>Setosa</td>\n",
       "    </tr>\n",
       "    <tr>\n",
       "      <th>1</th>\n",
       "      <td>4.9</td>\n",
       "      <td>3.0</td>\n",
       "      <td>1.4</td>\n",
       "      <td>0.2</td>\n",
       "      <td>Setosa</td>\n",
       "    </tr>\n",
       "    <tr>\n",
       "      <th>2</th>\n",
       "      <td>4.7</td>\n",
       "      <td>3.2</td>\n",
       "      <td>1.3</td>\n",
       "      <td>0.2</td>\n",
       "      <td>Setosa</td>\n",
       "    </tr>\n",
       "    <tr>\n",
       "      <th>3</th>\n",
       "      <td>4.6</td>\n",
       "      <td>3.1</td>\n",
       "      <td>1.5</td>\n",
       "      <td>0.2</td>\n",
       "      <td>Setosa</td>\n",
       "    </tr>\n",
       "    <tr>\n",
       "      <th>4</th>\n",
       "      <td>5.0</td>\n",
       "      <td>3.6</td>\n",
       "      <td>1.4</td>\n",
       "      <td>0.2</td>\n",
       "      <td>Setosa</td>\n",
       "    </tr>\n",
       "  </tbody>\n",
       "</table>\n",
       "</div>"
      ],
      "text/plain": [
       "   sepal.length  sepal.width  petal.length  petal.width variety\n",
       "0           5.1          3.5           1.4          0.2  Setosa\n",
       "1           4.9          3.0           1.4          0.2  Setosa\n",
       "2           4.7          3.2           1.3          0.2  Setosa\n",
       "3           4.6          3.1           1.5          0.2  Setosa\n",
       "4           5.0          3.6           1.4          0.2  Setosa"
      ]
     },
     "execution_count": 2,
     "metadata": {},
     "output_type": "execute_result"
    }
   ],
   "source": [
    "# Load the iris dataset\n",
    "\n",
    "\n",
    "# Load the data set and see first 5 rows\n",
    "a = pd.read_csv('iris.csv')\n",
    "iris = pd.DataFrame(a)\n",
    "iris.head()\n"
   ]
  },
  {
   "cell_type": "code",
   "execution_count": 3,
   "id": "13079b45",
   "metadata": {},
   "outputs": [
    {
     "data": {
      "text/plain": [
       "(150, 5)"
      ]
     },
     "execution_count": 3,
     "metadata": {},
     "output_type": "execute_result"
    }
   ],
   "source": [
    "iris.shape"
   ]
  },
  {
   "cell_type": "code",
   "execution_count": 4,
   "id": "27a38692",
   "metadata": {},
   "outputs": [],
   "source": [
    "iris = datasets.load_iris()\n",
    "X = iris.data\n",
    "y = iris.target"
   ]
  },
  {
   "cell_type": "code",
   "execution_count": 5,
   "id": "dac02533",
   "metadata": {},
   "outputs": [],
   "source": [
    "X_train, X_test, y_train, y_test = train_test_split(X, y, test_size=0.3, stratify=y, random_state=1)"
   ]
  },
  {
   "cell_type": "code",
   "execution_count": 6,
   "id": "7c3a87d5",
   "metadata": {},
   "outputs": [],
   "source": [
    "clf = MLPClassifier(solver='adam', alpha=1e-5, hidden_layer_sizes=(3, 3), random_state=1)"
   ]
  },
  {
   "cell_type": "code",
   "execution_count": 7,
   "id": "2f1d2110",
   "metadata": {},
   "outputs": [
    {
     "name": "stderr",
     "output_type": "stream",
     "text": [
      "D:\\Users\\sf41\\Anaconda3\\envs\\tensorflow_env\\lib\\site-packages\\sklearn\\neural_network\\_multilayer_perceptron.py:692: ConvergenceWarning: Stochastic Optimizer: Maximum iterations (200) reached and the optimization hasn't converged yet.\n",
      "  warnings.warn(\n"
     ]
    },
    {
     "data": {
      "text/plain": [
       "MLPClassifier(alpha=1e-05, hidden_layer_sizes=(3, 3), random_state=1)"
      ]
     },
     "execution_count": 7,
     "metadata": {},
     "output_type": "execute_result"
    }
   ],
   "source": [
    "clf.fit(X_train, y_train)"
   ]
  },
  {
   "cell_type": "code",
   "execution_count": 8,
   "id": "54ab0a5f",
   "metadata": {},
   "outputs": [
    {
     "name": "stdout",
     "output_type": "stream",
     "text": [
      "[2 1 1 2 1 1 2 1 2 0 1 2 0 1 0 1 2 2 1 2 2 0 1 2 2 2 1 2 1 2 1 0 1 1 2 2 1\n",
      " 0 0 1 2 2 1 0 0]\n"
     ]
    }
   ],
   "source": [
    "prediction = clf.predict(X_test)\n",
    "print(prediction)"
   ]
  },
  {
   "cell_type": "code",
   "execution_count": 9,
   "id": "40c29748",
   "metadata": {},
   "outputs": [
    {
     "name": "stdout",
     "output_type": "stream",
     "text": [
      "The accuracy of the Multi-layer Perceptron is: 0.8\n"
     ]
    }
   ],
   "source": [
    "print('The accuracy of the Multi-layer Perceptron is:',metrics.accuracy_score(prediction,y_test))"
   ]
  },
  {
   "cell_type": "code",
   "execution_count": 10,
   "id": "f4aa4b3b",
   "metadata": {},
   "outputs": [],
   "source": [
    "train_labels = to_categorical(y_train)\n",
    "test_labels = to_categorical(y_test)"
   ]
  },
  {
   "cell_type": "code",
   "execution_count": 11,
   "id": "5af9b8b8",
   "metadata": {},
   "outputs": [],
   "source": [
    "network = models.Sequential()\n",
    "network.add(layers.Dense(32, activation='relu', input_shape=(4,)))\n",
    "network.add(layers.Dense(64, activation='relu'))\n",
    "network.add(layers.Dense(128, activation='relu'))\n",
    "network.add(layers.Dense(3, activation='softmax'))"
   ]
  },
  {
   "cell_type": "code",
   "execution_count": 12,
   "id": "ae924d73",
   "metadata": {},
   "outputs": [],
   "source": [
    "learning_rate=0.01\n",
    "sgd=SGD(learning_rate)\n",
    "network.compile(optimizer='sgd',\n",
    "                loss='categorical_crossentropy',\n",
    "                metrics=['accuracy'])"
   ]
  },
  {
   "cell_type": "code",
   "execution_count": 13,
   "id": "5beec904",
   "metadata": {},
   "outputs": [
    {
     "name": "stdout",
     "output_type": "stream",
     "text": [
      "Epoch 1/100\n",
      "9/9 [==============================] - 1s 33ms/step - loss: 1.0144 - accuracy: 0.6310 - val_loss: 0.9269 - val_accuracy: 0.7619\n",
      "Epoch 2/100\n",
      "9/9 [==============================] - 0s 5ms/step - loss: 0.9091 - accuracy: 0.6429 - val_loss: 0.8443 - val_accuracy: 0.8095\n",
      "Epoch 3/100\n",
      "9/9 [==============================] - 0s 5ms/step - loss: 0.8324 - accuracy: 0.6786 - val_loss: 0.7679 - val_accuracy: 0.9048\n",
      "Epoch 4/100\n",
      "9/9 [==============================] - 0s 5ms/step - loss: 0.7712 - accuracy: 0.7143 - val_loss: 0.7073 - val_accuracy: 0.7143\n",
      "Epoch 5/100\n",
      "9/9 [==============================] - 0s 5ms/step - loss: 0.7182 - accuracy: 0.7381 - val_loss: 0.6416 - val_accuracy: 1.0000\n",
      "Epoch 6/100\n",
      "9/9 [==============================] - 0s 5ms/step - loss: 0.6754 - accuracy: 0.7143 - val_loss: 0.5846 - val_accuracy: 0.9048\n",
      "Epoch 7/100\n",
      "9/9 [==============================] - 0s 5ms/step - loss: 0.6321 - accuracy: 0.8452 - val_loss: 0.5388 - val_accuracy: 0.7143\n",
      "Epoch 8/100\n",
      "9/9 [==============================] - 0s 5ms/step - loss: 0.5888 - accuracy: 0.7381 - val_loss: 0.4943 - val_accuracy: 0.8571\n",
      "Epoch 9/100\n",
      "9/9 [==============================] - 0s 5ms/step - loss: 0.5696 - accuracy: 0.7619 - val_loss: 0.4682 - val_accuracy: 0.7619\n",
      "Epoch 10/100\n",
      "9/9 [==============================] - 0s 5ms/step - loss: 0.5312 - accuracy: 0.7262 - val_loss: 0.4330 - val_accuracy: 1.0000\n",
      "Epoch 11/100\n",
      "9/9 [==============================] - 0s 5ms/step - loss: 0.5075 - accuracy: 0.8571 - val_loss: 0.4091 - val_accuracy: 1.0000\n",
      "Epoch 12/100\n",
      "9/9 [==============================] - 0s 5ms/step - loss: 0.4872 - accuracy: 0.8571 - val_loss: 0.3880 - val_accuracy: 1.0000\n",
      "Epoch 13/100\n",
      "9/9 [==============================] - 0s 5ms/step - loss: 0.4765 - accuracy: 0.8452 - val_loss: 0.3740 - val_accuracy: 0.9524\n",
      "Epoch 14/100\n",
      "9/9 [==============================] - 0s 5ms/step - loss: 0.4499 - accuracy: 0.9048 - val_loss: 0.3636 - val_accuracy: 0.8571\n",
      "Epoch 15/100\n",
      "9/9 [==============================] - 0s 5ms/step - loss: 0.4287 - accuracy: 0.8571 - val_loss: 0.3294 - val_accuracy: 1.0000\n",
      "Epoch 16/100\n",
      "9/9 [==============================] - 0s 5ms/step - loss: 0.4150 - accuracy: 0.8571 - val_loss: 0.3785 - val_accuracy: 0.8095\n",
      "Epoch 17/100\n",
      "9/9 [==============================] - 0s 5ms/step - loss: 0.4295 - accuracy: 0.8333 - val_loss: 0.3025 - val_accuracy: 1.0000\n",
      "Epoch 18/100\n",
      "9/9 [==============================] - 0s 5ms/step - loss: 0.4029 - accuracy: 0.8571 - val_loss: 0.3394 - val_accuracy: 0.8095\n",
      "Epoch 19/100\n",
      "9/9 [==============================] - 0s 5ms/step - loss: 0.3820 - accuracy: 0.8929 - val_loss: 0.2996 - val_accuracy: 0.9524\n",
      "Epoch 20/100\n",
      "9/9 [==============================] - 0s 5ms/step - loss: 0.3614 - accuracy: 0.9048 - val_loss: 0.2864 - val_accuracy: 0.9048\n",
      "Epoch 21/100\n",
      "9/9 [==============================] - 0s 6ms/step - loss: 0.3663 - accuracy: 0.9048 - val_loss: 0.2711 - val_accuracy: 0.9524\n",
      "Epoch 22/100\n",
      "9/9 [==============================] - 0s 5ms/step - loss: 0.3443 - accuracy: 0.8929 - val_loss: 0.2546 - val_accuracy: 0.9048\n",
      "Epoch 23/100\n",
      "9/9 [==============================] - 0s 6ms/step - loss: 0.3360 - accuracy: 0.9167 - val_loss: 0.3136 - val_accuracy: 0.8571\n",
      "Epoch 24/100\n",
      "9/9 [==============================] - 0s 5ms/step - loss: 0.3350 - accuracy: 0.9048 - val_loss: 0.2381 - val_accuracy: 0.9524\n",
      "Epoch 25/100\n",
      "9/9 [==============================] - 0s 5ms/step - loss: 0.3451 - accuracy: 0.8690 - val_loss: 0.2218 - val_accuracy: 0.9524\n",
      "Epoch 26/100\n",
      "9/9 [==============================] - 0s 5ms/step - loss: 0.3194 - accuracy: 0.9286 - val_loss: 0.2182 - val_accuracy: 1.0000\n",
      "Epoch 27/100\n",
      "9/9 [==============================] - 0s 5ms/step - loss: 0.3401 - accuracy: 0.8810 - val_loss: 0.2070 - val_accuracy: 1.0000\n",
      "Epoch 28/100\n",
      "9/9 [==============================] - 0s 5ms/step - loss: 0.3128 - accuracy: 0.9048 - val_loss: 0.3855 - val_accuracy: 0.7143\n",
      "Epoch 29/100\n",
      "9/9 [==============================] - 0s 5ms/step - loss: 0.3350 - accuracy: 0.9048 - val_loss: 0.2643 - val_accuracy: 0.9048\n",
      "Epoch 30/100\n",
      "9/9 [==============================] - 0s 5ms/step - loss: 0.2834 - accuracy: 0.9405 - val_loss: 0.1969 - val_accuracy: 0.9524\n",
      "Epoch 31/100\n",
      "9/9 [==============================] - 0s 5ms/step - loss: 0.2729 - accuracy: 0.9048 - val_loss: 0.2062 - val_accuracy: 0.9524\n",
      "Epoch 32/100\n",
      "9/9 [==============================] - 0s 5ms/step - loss: 0.2651 - accuracy: 0.9405 - val_loss: 0.1869 - val_accuracy: 0.9048\n",
      "Epoch 33/100\n",
      "9/9 [==============================] - 0s 5ms/step - loss: 0.2645 - accuracy: 0.9048 - val_loss: 0.1703 - val_accuracy: 0.9524\n",
      "Epoch 34/100\n",
      "9/9 [==============================] - 0s 5ms/step - loss: 0.2700 - accuracy: 0.9286 - val_loss: 0.1729 - val_accuracy: 0.9048\n",
      "Epoch 35/100\n",
      "9/9 [==============================] - 0s 5ms/step - loss: 0.2416 - accuracy: 0.9405 - val_loss: 0.2109 - val_accuracy: 0.9048\n",
      "Epoch 36/100\n",
      "9/9 [==============================] - 0s 5ms/step - loss: 0.2683 - accuracy: 0.8929 - val_loss: 0.2300 - val_accuracy: 0.9048\n",
      "Epoch 37/100\n",
      "9/9 [==============================] - 0s 5ms/step - loss: 0.2485 - accuracy: 0.8929 - val_loss: 0.1497 - val_accuracy: 0.9524\n",
      "Epoch 38/100\n",
      "9/9 [==============================] - 0s 5ms/step - loss: 0.2291 - accuracy: 0.9286 - val_loss: 0.1602 - val_accuracy: 0.9048\n",
      "Epoch 39/100\n",
      "9/9 [==============================] - 0s 5ms/step - loss: 0.2629 - accuracy: 0.8929 - val_loss: 0.1410 - val_accuracy: 1.0000\n",
      "Epoch 40/100\n",
      "9/9 [==============================] - 0s 5ms/step - loss: 0.2349 - accuracy: 0.9286 - val_loss: 0.1375 - val_accuracy: 0.9524\n",
      "Epoch 41/100\n",
      "9/9 [==============================] - 0s 5ms/step - loss: 0.2112 - accuracy: 0.9524 - val_loss: 0.1650 - val_accuracy: 0.9048\n",
      "Epoch 42/100\n",
      "9/9 [==============================] - 0s 5ms/step - loss: 0.2084 - accuracy: 0.9286 - val_loss: 0.3220 - val_accuracy: 0.8095\n",
      "Epoch 43/100\n",
      "9/9 [==============================] - 0s 5ms/step - loss: 0.2268 - accuracy: 0.9167 - val_loss: 0.1241 - val_accuracy: 1.0000\n",
      "Epoch 44/100\n",
      "9/9 [==============================] - 0s 5ms/step - loss: 0.2021 - accuracy: 0.9405 - val_loss: 0.1295 - val_accuracy: 0.9524\n",
      "Epoch 45/100\n",
      "9/9 [==============================] - 0s 5ms/step - loss: 0.2237 - accuracy: 0.9405 - val_loss: 0.2101 - val_accuracy: 0.9048\n",
      "Epoch 46/100\n",
      "9/9 [==============================] - 0s 6ms/step - loss: 0.2661 - accuracy: 0.8690 - val_loss: 0.1789 - val_accuracy: 0.9048\n",
      "Epoch 47/100\n",
      "9/9 [==============================] - 0s 5ms/step - loss: 0.2134 - accuracy: 0.9286 - val_loss: 0.1426 - val_accuracy: 0.9048\n",
      "Epoch 48/100\n",
      "9/9 [==============================] - 0s 5ms/step - loss: 0.2406 - accuracy: 0.8690 - val_loss: 0.1425 - val_accuracy: 0.9048\n",
      "Epoch 49/100\n",
      "9/9 [==============================] - 0s 5ms/step - loss: 0.2066 - accuracy: 0.9643 - val_loss: 0.1921 - val_accuracy: 0.9048\n",
      "Epoch 50/100\n",
      "9/9 [==============================] - 0s 5ms/step - loss: 0.2105 - accuracy: 0.9286 - val_loss: 0.1123 - val_accuracy: 0.9524\n",
      "Epoch 51/100\n",
      "9/9 [==============================] - 0s 5ms/step - loss: 0.2074 - accuracy: 0.9048 - val_loss: 0.1091 - val_accuracy: 0.9524\n",
      "Epoch 52/100\n",
      "9/9 [==============================] - 0s 5ms/step - loss: 0.2432 - accuracy: 0.8929 - val_loss: 0.1037 - val_accuracy: 0.9524\n",
      "Epoch 53/100\n",
      "9/9 [==============================] - 0s 5ms/step - loss: 0.2039 - accuracy: 0.9405 - val_loss: 0.1520 - val_accuracy: 0.9524\n",
      "Epoch 54/100\n",
      "9/9 [==============================] - 0s 5ms/step - loss: 0.2298 - accuracy: 0.8810 - val_loss: 0.1512 - val_accuracy: 0.9524\n",
      "Epoch 55/100\n",
      "9/9 [==============================] - 0s 5ms/step - loss: 0.2734 - accuracy: 0.8810 - val_loss: 0.1042 - val_accuracy: 1.0000\n",
      "Epoch 56/100\n",
      "9/9 [==============================] - 0s 5ms/step - loss: 0.1883 - accuracy: 0.9524 - val_loss: 0.4661 - val_accuracy: 0.8095\n",
      "Epoch 57/100\n",
      "9/9 [==============================] - 0s 5ms/step - loss: 0.2921 - accuracy: 0.8929 - val_loss: 0.3559 - val_accuracy: 0.7143\n",
      "Epoch 58/100\n",
      "9/9 [==============================] - 0s 5ms/step - loss: 0.2606 - accuracy: 0.9048 - val_loss: 0.2426 - val_accuracy: 0.9048\n",
      "Epoch 59/100\n"
     ]
    },
    {
     "name": "stdout",
     "output_type": "stream",
     "text": [
      "9/9 [==============================] - 0s 5ms/step - loss: 0.2896 - accuracy: 0.8690 - val_loss: 0.0963 - val_accuracy: 0.9524\n",
      "Epoch 60/100\n",
      "9/9 [==============================] - 0s 5ms/step - loss: 0.2056 - accuracy: 0.9286 - val_loss: 0.1331 - val_accuracy: 0.9524\n",
      "Epoch 61/100\n",
      "9/9 [==============================] - 0s 5ms/step - loss: 0.1992 - accuracy: 0.9286 - val_loss: 0.0974 - val_accuracy: 1.0000\n",
      "Epoch 62/100\n",
      "9/9 [==============================] - 0s 5ms/step - loss: 0.3529 - accuracy: 0.8333 - val_loss: 0.2226 - val_accuracy: 0.9048\n",
      "Epoch 63/100\n",
      "9/9 [==============================] - 0s 5ms/step - loss: 0.2041 - accuracy: 0.9286 - val_loss: 0.1519 - val_accuracy: 0.9524\n",
      "Epoch 64/100\n",
      "9/9 [==============================] - 0s 5ms/step - loss: 0.1908 - accuracy: 0.9167 - val_loss: 0.0933 - val_accuracy: 1.0000\n",
      "Epoch 65/100\n",
      "9/9 [==============================] - 0s 4ms/step - loss: 0.1890 - accuracy: 0.9167 - val_loss: 0.2588 - val_accuracy: 0.9048\n",
      "Epoch 66/100\n",
      "9/9 [==============================] - 0s 4ms/step - loss: 0.2030 - accuracy: 0.9167 - val_loss: 0.1103 - val_accuracy: 0.9524\n",
      "Epoch 67/100\n",
      "9/9 [==============================] - 0s 5ms/step - loss: 0.2258 - accuracy: 0.9167 - val_loss: 0.0886 - val_accuracy: 1.0000\n",
      "Epoch 68/100\n",
      "9/9 [==============================] - 0s 5ms/step - loss: 0.2242 - accuracy: 0.9048 - val_loss: 0.0821 - val_accuracy: 1.0000\n",
      "Epoch 69/100\n",
      "9/9 [==============================] - 0s 5ms/step - loss: 0.1791 - accuracy: 0.9286 - val_loss: 0.3229 - val_accuracy: 0.9048\n",
      "Epoch 70/100\n",
      "9/9 [==============================] - 0s 5ms/step - loss: 0.2101 - accuracy: 0.9048 - val_loss: 0.1133 - val_accuracy: 0.9524\n",
      "Epoch 71/100\n",
      "9/9 [==============================] - 0s 5ms/step - loss: 0.2051 - accuracy: 0.9167 - val_loss: 0.0784 - val_accuracy: 1.0000\n",
      "Epoch 72/100\n",
      "9/9 [==============================] - 0s 4ms/step - loss: 0.1977 - accuracy: 0.9048 - val_loss: 0.2371 - val_accuracy: 0.9048\n",
      "Epoch 73/100\n",
      "9/9 [==============================] - 0s 4ms/step - loss: 0.2002 - accuracy: 0.9286 - val_loss: 0.0878 - val_accuracy: 0.9524\n",
      "Epoch 74/100\n",
      "9/9 [==============================] - 0s 5ms/step - loss: 0.2126 - accuracy: 0.9286 - val_loss: 0.2721 - val_accuracy: 0.9048\n",
      "Epoch 75/100\n",
      "9/9 [==============================] - 0s 4ms/step - loss: 0.2810 - accuracy: 0.8690 - val_loss: 0.1417 - val_accuracy: 0.9048\n",
      "Epoch 76/100\n",
      "9/9 [==============================] - 0s 4ms/step - loss: 0.1485 - accuracy: 0.9643 - val_loss: 0.1131 - val_accuracy: 0.9524\n",
      "Epoch 77/100\n",
      "9/9 [==============================] - 0s 5ms/step - loss: 0.2081 - accuracy: 0.9048 - val_loss: 0.0724 - val_accuracy: 1.0000\n",
      "Epoch 78/100\n",
      "9/9 [==============================] - 0s 4ms/step - loss: 0.1687 - accuracy: 0.9286 - val_loss: 0.3755 - val_accuracy: 0.8571\n",
      "Epoch 79/100\n",
      "9/9 [==============================] - 0s 4ms/step - loss: 0.1703 - accuracy: 0.9286 - val_loss: 0.0875 - val_accuracy: 0.9524\n",
      "Epoch 80/100\n",
      "9/9 [==============================] - 0s 5ms/step - loss: 0.1391 - accuracy: 0.9524 - val_loss: 0.0842 - val_accuracy: 0.9524\n",
      "Epoch 81/100\n",
      "9/9 [==============================] - 0s 4ms/step - loss: 0.1549 - accuracy: 0.9524 - val_loss: 0.0668 - val_accuracy: 1.0000\n",
      "Epoch 82/100\n",
      "9/9 [==============================] - 0s 4ms/step - loss: 0.1440 - accuracy: 0.9286 - val_loss: 0.0856 - val_accuracy: 0.9524\n",
      "Epoch 83/100\n",
      "9/9 [==============================] - 0s 5ms/step - loss: 0.1932 - accuracy: 0.9405 - val_loss: 0.1595 - val_accuracy: 0.9048\n",
      "Epoch 84/100\n",
      "9/9 [==============================] - 0s 5ms/step - loss: 0.2304 - accuracy: 0.9167 - val_loss: 0.0680 - val_accuracy: 1.0000\n",
      "Epoch 85/100\n",
      "9/9 [==============================] - 0s 5ms/step - loss: 0.1419 - accuracy: 0.9643 - val_loss: 0.0649 - val_accuracy: 1.0000\n",
      "Epoch 86/100\n",
      "9/9 [==============================] - 0s 5ms/step - loss: 0.1478 - accuracy: 0.9643 - val_loss: 0.0685 - val_accuracy: 1.0000\n",
      "Epoch 87/100\n",
      "9/9 [==============================] - 0s 5ms/step - loss: 0.1854 - accuracy: 0.9286 - val_loss: 0.0969 - val_accuracy: 0.9524\n",
      "Epoch 88/100\n",
      "9/9 [==============================] - 0s 5ms/step - loss: 0.1615 - accuracy: 0.9524 - val_loss: 0.1146 - val_accuracy: 0.9524\n",
      "Epoch 89/100\n",
      "9/9 [==============================] - 0s 4ms/step - loss: 0.1619 - accuracy: 0.9405 - val_loss: 0.0756 - val_accuracy: 0.9524\n",
      "Epoch 90/100\n",
      "9/9 [==============================] - 0s 4ms/step - loss: 0.2814 - accuracy: 0.9048 - val_loss: 0.1359 - val_accuracy: 0.9048\n",
      "Epoch 91/100\n",
      "9/9 [==============================] - 0s 4ms/step - loss: 0.1757 - accuracy: 0.9048 - val_loss: 0.0639 - val_accuracy: 1.0000\n",
      "Epoch 92/100\n",
      "9/9 [==============================] - 0s 4ms/step - loss: 0.2098 - accuracy: 0.9167 - val_loss: 0.0623 - val_accuracy: 1.0000\n",
      "Epoch 93/100\n",
      "9/9 [==============================] - 0s 4ms/step - loss: 0.1502 - accuracy: 0.9524 - val_loss: 0.2003 - val_accuracy: 0.9048\n",
      "Epoch 94/100\n",
      "9/9 [==============================] - 0s 5ms/step - loss: 0.1717 - accuracy: 0.9405 - val_loss: 0.1128 - val_accuracy: 0.9524\n",
      "Epoch 95/100\n",
      "9/9 [==============================] - 0s 5ms/step - loss: 0.2208 - accuracy: 0.9048 - val_loss: 0.0698 - val_accuracy: 1.0000\n",
      "Epoch 96/100\n",
      "9/9 [==============================] - 0s 5ms/step - loss: 0.1468 - accuracy: 0.9643 - val_loss: 0.0764 - val_accuracy: 0.9524\n",
      "Epoch 97/100\n",
      "9/9 [==============================] - 0s 5ms/step - loss: 0.1732 - accuracy: 0.9405 - val_loss: 0.0922 - val_accuracy: 0.9524\n",
      "Epoch 98/100\n",
      "9/9 [==============================] - 0s 5ms/step - loss: 0.1409 - accuracy: 0.9524 - val_loss: 0.0653 - val_accuracy: 1.0000\n",
      "Epoch 99/100\n",
      "9/9 [==============================] - 0s 5ms/step - loss: 0.2028 - accuracy: 0.9286 - val_loss: 0.0731 - val_accuracy: 0.9524\n",
      "Epoch 100/100\n",
      "9/9 [==============================] - 0s 4ms/step - loss: 0.1901 - accuracy: 0.9167 - val_loss: 0.2030 - val_accuracy: 0.9048\n"
     ]
    }
   ],
   "source": [
    "H=network.fit(X_train, train_labels, epochs=100, batch_size=10,validation_split=0.2)"
   ]
  },
  {
   "cell_type": "code",
   "execution_count": 14,
   "id": "388d4d4e",
   "metadata": {},
   "outputs": [
    {
     "data": {
      "text/plain": [
       "dict_keys(['loss', 'accuracy', 'val_loss', 'val_accuracy'])"
      ]
     },
     "execution_count": 14,
     "metadata": {},
     "output_type": "execute_result"
    }
   ],
   "source": [
    "H.history.keys()"
   ]
  },
  {
   "cell_type": "code",
   "execution_count": 16,
   "id": "2fdebf8e",
   "metadata": {},
   "outputs": [
    {
     "data": {
      "image/png": "[encoded data removed]",
      "text/plain": [
       "<Figure size 432x288 with 1 Axes>"
      ]
     },
     "metadata": {
      "needs_background": "light"
     },
     "output_type": "display_data"
    }
   ],
   "source": [
    "Acc_train = H.history['accuracy']\n",
    "Accu_val = H.history['val_accuracy']\n",
    "plt.plot(Acc_train, 'g', label='Training accuracy')\n",
    "plt.plot(Accu_val, 'b', label='validation accuracy')\n",
    "plt.title('Training and Validation Accuracy For Learning rate = %f' % learning_rate)\n",
    "plt.xlabel('Epochs')\n",
    "plt.ylabel('Accuracy')\n",
    "plt.legend(['train','val'],loc='lower right')\n",
    "plt.show()"
   ]
  },
  {
   "cell_type": "code",
   "execution_count": null,
   "id": "adf82fd9",
   "metadata": {},
   "outputs": [],
   "source": []
  },
  {
   "cell_type": "code",
   "execution_count": null,
   "id": "111e859a",
   "metadata": {},
   "outputs": [],
   "source": []
  }
 ],
 "metadata": {
  "kernelspec": {
   "display_name": "Python 3 (ipykernel)",
   "language": "python",
   "name": "python3"
  },
  "language_info": {
   "codemirror_mode": {
    "name": "ipython",
    "version": 3
   },
   "file_extension": ".py",
   "mimetype": "text/x-python",
   "name": "python",
   "nbconvert_exporter": "python",
   "pygments_lexer": "ipython3",
   "version": "3.9.12"
  }
 },
 "nbformat": 4,
 "nbformat_minor": 5
}
